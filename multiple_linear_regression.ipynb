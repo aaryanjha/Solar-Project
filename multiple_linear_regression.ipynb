{
 "cells": [
  {
   "cell_type": "markdown",
   "metadata": {
    "colab_type": "text",
    "id": "CazISR8X_HUG"
   },
   "source": [
    "# Multiple Linear Regression"
   ]
  },
  {
   "cell_type": "markdown",
   "metadata": {
    "colab_type": "text",
    "id": "pOyqYHTk_Q57"
   },
   "source": [
    "## Importing the libraries"
   ]
  },
  {
   "cell_type": "code",
   "execution_count": 1,
   "metadata": {
    "colab": {},
    "colab_type": "code",
    "id": "T_YHJjnD_Tja"
   },
   "outputs": [],
   "source": [
    "import numpy as np\n",
    "import matplotlib.pyplot as plt\n",
    "import pandas as pd"
   ]
  },
  {
   "cell_type": "markdown",
   "metadata": {
    "colab_type": "text",
    "id": "vgC61-ah_WIz"
   },
   "source": [
    "## Importing the dataset"
   ]
  },
  {
   "cell_type": "code",
   "execution_count": 2,
   "metadata": {
    "colab": {},
    "colab_type": "code",
    "id": "UrxyEKGn_ez7"
   },
   "outputs": [],
   "source": [
    "dataset = pd.read_csv('solar.csv')\n",
    "X = dataset.iloc[:, 1:-2].values\n",
    "y = dataset.iloc[:, -2].values"
   ]
  },
  {
   "cell_type": "markdown",
   "metadata": {
    "colab_type": "text",
    "id": "WemVnqgeA70k"
   },
   "source": [
    "## Splitting the dataset into the Training set and Test set"
   ]
  },
  {
   "cell_type": "code",
   "execution_count": 3,
   "metadata": {
    "colab": {},
    "colab_type": "code",
    "id": "Kb_v_ae-A-20"
   },
   "outputs": [],
   "source": [
    "from sklearn.model_selection import train_test_split\n",
    "X_train, X_test, y_train, y_test = train_test_split(X, y, test_size = 0.25, random_state = 0)"
   ]
  },
  {
   "cell_type": "markdown",
   "metadata": {},
   "source": [
    "# Feature Scaling"
   ]
  },
  {
   "cell_type": "code",
   "execution_count": 4,
   "metadata": {},
   "outputs": [],
   "source": [
    "from sklearn.preprocessing import StandardScaler\n",
    "sc =StandardScaler()\n",
    "X = sc.fit_transform(X)"
   ]
  },
  {
   "cell_type": "markdown",
   "metadata": {
    "colab_type": "text",
    "id": "k-McZVsQBINc"
   },
   "source": [
    "## Training the Multiple Linear Regression model on the Training set"
   ]
  },
  {
   "cell_type": "code",
   "execution_count": 5,
   "metadata": {
    "colab": {
     "base_uri": "https://localhost:8080/",
     "height": 34
    },
    "colab_type": "code",
    "executionInfo": {
     "elapsed": 757,
     "status": "ok",
     "timestamp": 1586353664008,
     "user": {
      "displayName": "Hadelin de Ponteves",
      "photoUrl": "https://lh3.googleusercontent.com/a-/AOh14GhEuXdT7eQweUmRPW8_laJuPggSK6hfvpl5a6WBaA=s64",
      "userId": "15047218817161520419"
     },
     "user_tz": -240
    },
    "id": "ywPjx0L1BMiD",
    "outputId": "099836bc-4d85-4b4f-a488-093faf02e8cb"
   },
   "outputs": [
    {
     "data": {
      "text/plain": [
       "LinearRegression(copy_X=True, fit_intercept=True, n_jobs=None,\n",
       "         normalize=False)"
      ]
     },
     "execution_count": 5,
     "metadata": {},
     "output_type": "execute_result"
    }
   ],
   "source": [
    "from sklearn.linear_model import LinearRegression\n",
    "regressor = LinearRegression()\n",
    "regressor.fit(X_train, y_train)"
   ]
  },
  {
   "cell_type": "markdown",
   "metadata": {
    "colab_type": "text",
    "id": "xNkXL1YQBiBT"
   },
   "source": [
    "## Predicting the Test set results"
   ]
  },
  {
   "cell_type": "code",
   "execution_count": 6,
   "metadata": {
    "colab": {
     "base_uri": "https://localhost:8080/",
     "height": 185
    },
    "colab_type": "code",
    "executionInfo": {
     "elapsed": 951,
     "status": "ok",
     "timestamp": 1586353666678,
     "user": {
      "displayName": "Hadelin de Ponteves",
      "photoUrl": "https://lh3.googleusercontent.com/a-/AOh14GhEuXdT7eQweUmRPW8_laJuPggSK6hfvpl5a6WBaA=s64",
      "userId": "15047218817161520419"
     },
     "user_tz": -240
    },
    "id": "TQKmwvtdBkyb",
    "outputId": "493436bf-a4ae-4374-ca16-0b0c25d19457"
   },
   "outputs": [
    {
     "name": "stdout",
     "output_type": "stream",
     "text": [
      "[[ 6516.3   4487.  ]\n",
      " [23324.97 27236.  ]\n",
      " [29890.21 12116.  ]\n",
      " [15369.7  14737.  ]\n",
      " [22641.85 11678.  ]\n",
      " [19122.82 23102.  ]\n",
      " [15716.88 27052.  ]\n",
      " [24903.77 22642.  ]\n",
      " [24792.89 10177.  ]\n",
      " [16230.23 22677.  ]\n",
      " [11804.92 10605.  ]\n",
      " [24893.82 29241.  ]\n",
      " [27823.47 10848.  ]\n",
      " [33381.83 33103.  ]\n",
      " [30773.55 29472.  ]\n",
      " [13743.1  22309.  ]\n",
      " [31680.17 32186.  ]\n",
      " [32405.36 29736.  ]\n",
      " [19437.45 22488.  ]\n",
      " [29956.54  8418.  ]\n",
      " [ 8681.86  4072.  ]\n",
      " [27820.27 34654.  ]\n",
      " [31365.27 32386.  ]\n",
      " [17221.57 20726.  ]\n",
      " [20914.94 26135.  ]\n",
      " [30514.57 33640.  ]\n",
      " [33493.43 27589.  ]\n",
      " [32855.51 31051.  ]\n",
      " [ 7799.1   9741.  ]\n",
      " [ 9515.3   7162.  ]\n",
      " [34644.11 35034.  ]\n",
      " [24828.45 27092.  ]\n",
      " [25136.19 31462.  ]\n",
      " [21640.76 26180.  ]\n",
      " [26375.98 25838.  ]\n",
      " [ 3643.39  3787.  ]\n",
      " [20258.85 21582.  ]\n",
      " [20398.11 24834.  ]\n",
      " [34042.6  34442.  ]\n",
      " [35351.71 32742.  ]\n",
      " [13832.91 13058.  ]\n",
      " [30828.17 35506.  ]\n",
      " [13187.97 17006.  ]\n",
      " [27330.97 29127.  ]\n",
      " [24735.62 23588.  ]\n",
      " [27315.06 31504.  ]\n",
      " [ 8251.12  5835.  ]\n",
      " [27434.06  9970.  ]\n",
      " [12159.7  12814.  ]\n",
      " [34946.68 37100.  ]\n",
      " [ 5939.62  8324.  ]\n",
      " [19348.33 19152.  ]\n",
      " [22272.22 23697.  ]\n",
      " [31941.13 28642.  ]\n",
      " [24380.21 25617.  ]\n",
      " [30440.75 30307.  ]\n",
      " [16921.85 19145.  ]\n",
      " [26946.42 22751.  ]\n",
      " [26587.67 28709.  ]\n",
      " [35768.27 33487.  ]\n",
      " [ 2192.15  7570.  ]\n",
      " [20793.9  31333.  ]\n",
      " [36597.42 32663.  ]\n",
      " [23077.33 30676.  ]\n",
      " [20247.45 23294.  ]\n",
      " [29338.35 20111.  ]\n",
      " [30146.56 30593.  ]\n",
      " [20958.97 25236.  ]\n",
      " [25353.39 31502.  ]\n",
      " [ 8770.5   1169.  ]\n",
      " [30530.62 26555.  ]\n",
      " [18146.75 16855.  ]\n",
      " [29361.02 37546.  ]\n",
      " [26847.55 19316.  ]\n",
      " [10316.71  5239.  ]\n",
      " [22036.48 27643.  ]\n",
      " [19425.83 11035.  ]\n",
      " [30288.43 12730.  ]\n",
      " [ 7193.38  1761.  ]\n",
      " [12361.49 23598.  ]\n",
      " [ 9126.01 13622.  ]\n",
      " [28076.09 14594.  ]\n",
      " [27605.6  32029.  ]\n",
      " [22086.36 22214.  ]\n",
      " [16054.06 13472.  ]\n",
      " [ 2713.59  6641.  ]\n",
      " [22700.51 11365.  ]\n",
      " [22852.56 14622.  ]\n",
      " [ 3931.27  2916.  ]\n",
      " [19778.82 26656.  ]\n",
      " [39807.38 34518.  ]\n",
      " [18711.32 16663.  ]\n",
      " [18043.89 29445.  ]\n",
      " [10743.1  16084.  ]\n",
      " [27735.71 16347.  ]\n",
      " [31183.89 28154.  ]\n",
      " [25476.13 28304.  ]\n",
      " [18539.84 23467.  ]\n",
      " [32032.63 26371.  ]\n",
      " [ 7400.71 13350.  ]\n",
      " [29411.72 31239.  ]\n",
      " [ 7598.08  6400.  ]\n",
      " [23923.33 10744.  ]\n",
      " [27869.63 28845.  ]\n",
      " [35297.33 37906.  ]\n",
      " [10875.7   7561.  ]\n",
      " [27506.34 25116.  ]\n",
      " [11924.67  8894.  ]\n",
      " [16396.94 23505.  ]\n",
      " [21113.84 28622.  ]\n",
      " [28831.06 11647.  ]\n",
      " [23763.91 25261.  ]\n",
      " [27541.02 36095.  ]\n",
      " [28312.12 38579.  ]\n",
      " [26391.2  20675.  ]\n",
      " [ 8480.99 12651.  ]\n",
      " [13660.02 13716.  ]\n",
      " [28145.47 23176.  ]\n",
      " [19158.21 30910.  ]\n",
      " [27067.54 31376.  ]\n",
      " [25116.41 34230.  ]\n",
      " [14071.58  8816.  ]\n",
      " [27145.43 28306.  ]\n",
      " [ 3662.96  2596.  ]\n",
      " [42106.39 38568.  ]\n",
      " [25090.06 30358.  ]\n",
      " [24933.66 35855.  ]\n",
      " [15953.35 20861.  ]\n",
      " [27710.25 36645.  ]\n",
      " [36473.62 38677.  ]\n",
      " [37777.74 19283.  ]\n",
      " [19635.31 27296.  ]\n",
      " [20996.16 21287.  ]\n",
      " [10252.87 19602.  ]\n",
      " [17820.68  8060.  ]\n",
      " [20372.48 21707.  ]\n",
      " [20912.81 27330.  ]\n",
      " [16170.03 15544.  ]\n",
      " [ 7261.61 27097.  ]\n",
      " [20898.56 22365.  ]\n",
      " [31608.57 35074.  ]\n",
      " [14105.56 17072.  ]\n",
      " [ 6520.37 12981.  ]\n",
      " [ 8719.54  6329.  ]\n",
      " [ 9943.95  2407.  ]\n",
      " [25410.71 25110.  ]\n",
      " [25293.75 29873.  ]\n",
      " [10988.61   716.  ]\n",
      " [33111.95 24911.  ]\n",
      " [ 8674.76  8730.  ]\n",
      " [ 7079.34 15317.  ]\n",
      " [30811.74 27582.  ]\n",
      " [28005.11 36389.  ]\n",
      " [30500.25 31871.  ]\n",
      " [28419.42 28907.  ]\n",
      " [23477.32 23026.  ]\n",
      " [24494.54 20909.  ]\n",
      " [24700.16 22026.  ]\n",
      " [34300.32 38705.  ]\n",
      " [21894.5  32352.  ]]\n"
     ]
    }
   ],
   "source": [
    "y_pred = regressor.predict(X_test)\n",
    "np.set_printoptions(precision=2)\n",
    "print(np.concatenate((y_pred.reshape(len(y_pred),1), y_test.reshape(len(y_test),1)),1))"
   ]
  },
  {
   "cell_type": "markdown",
   "metadata": {},
   "source": [
    "# Visualising the results"
   ]
  },
  {
   "cell_type": "code",
   "execution_count": 13,
   "metadata": {},
   "outputs": [
    {
     "data": {
      "image/png": "[encoded data removed]",
      "text/plain": [
       "<Figure size 432x288 with 1 Axes>"
      ]
     },
     "metadata": {
      "needs_background": "light"
     },
     "output_type": "display_data"
    }
   ],
   "source": [
    "plt.plot(list(range(451,len(y)+1)),y[450:], color = 'red')\n",
    "plt.plot(list(range(len(y_train)+1,len(y)+1)),y_pred, color = 'blue')\n",
    "plt.show()"
   ]
  },
  {
   "cell_type": "code",
   "execution_count": null,
   "metadata": {},
   "outputs": [],
   "source": []
  }
 ],
 "metadata": {
  "colab": {
   "authorship_tag": "ABX9TyPhYhte6t7H4wEK4xPpDWT7",
   "name": "Multiple Linear Regression",
   "provenance": [],
   "toc_visible": true
  },
  "kernelspec": {
   "display_name": "Python 2",
   "language": "python",
   "name": "python2"
  },
  "language_info": {
   "codemirror_mode": {
    "name": "ipython",
    "version": 2
   },
   "file_extension": ".py",
   "mimetype": "text/x-python",
   "name": "python",
   "nbconvert_exporter": "python",
   "pygments_lexer": "ipython2",
   "version": "2.7.17"
  }
 },
 "nbformat": 4,
 "nbformat_minor": 1
}
